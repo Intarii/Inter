{
  "nbformat": 4,
  "nbformat_minor": 0,
  "metadata": {
    "colab": {
      "provenance": []
    },
    "kernelspec": {
      "name": "python3",
      "display_name": "Python 3"
    },
    "language_info": {
      "name": "python"
    }
  },
  "cells": [
    {
      "cell_type": "code",
      "execution_count": 1,
      "metadata": {
        "id": "Yl8DpxFD3HXL"
      },
      "outputs": [],
      "source": [
        "import torch\n",
        "\n",
        "from torch.nn import Linear, Module, MSELoss\n",
        "\n",
        "from torch.optim import SGD\n",
        "\n",
        "import numpy as np"
      ]
    },
    {
      "cell_type": "code",
      "source": [
        "train = np.arange(0, 1, 0.01)\n",
        "\n",
        "label = train * 0.5 + 1\n",
        "\n",
        "train = torch.tensor(train, dtype=torch.float32).view(-1, 1)\n",
        "\n",
        "label = torch.tensor(label, dtype=torch.float32).view(-1, 1)\n",
        "\n",
        "assert len(train) == len(label), \"Fail !\""
      ],
      "metadata": {
        "id": "dH7iFDBh3ani"
      },
      "execution_count": 2,
      "outputs": []
    },
    {
      "cell_type": "code",
      "source": [
        "class Modela(Module):\n",
        "  \"\"\"\n",
        "  Model Class\n",
        "  \"\"\"\n",
        "  def __init__(self):\n",
        "    \"\"\"\n",
        "    Define Linear Layer\n",
        "    \"\"\"\n",
        "    super(Modela, self).__init__()\n",
        "\n",
        "    self.linear = Linear(1, 1)\n",
        "\n",
        "  def forward(self, i):\n",
        "    \"\"\"\n",
        "    Forward Propagation\n",
        "    \"\"\"\n",
        "    return self.linear(i)\n",
        "\n",
        "model = Modela()"
      ],
      "metadata": {
        "id": "Jw0m1FLPVl6q"
      },
      "execution_count": 3,
      "outputs": []
    },
    {
      "cell_type": "code",
      "source": [
        "torch.cuda.is_available()"
      ],
      "metadata": {
        "id": "S7-WaNGhWJtY",
        "outputId": "bcdecc3d-70e2-4d94-ab71-dbb3671912d1",
        "colab": {
          "base_uri": "https://localhost:8080/"
        }
      },
      "execution_count": 4,
      "outputs": [
        {
          "output_type": "execute_result",
          "data": {
            "text/plain": [
              "False"
            ]
          },
          "metadata": {},
          "execution_count": 4
        }
      ]
    },
    {
      "cell_type": "code",
      "source": [
        "alpha = 0.01\n",
        "\n",
        "mseloss = MSELoss()\n",
        "\n",
        "optimizer = torch.optim.SGD(model.parameters(), lr=alpha)"
      ],
      "metadata": {
        "id": "0L2YPuPdWbYU"
      },
      "execution_count": 5,
      "outputs": []
    },
    {
      "cell_type": "code",
      "source": [
        "losslist = []\n",
        "\n",
        "loop = 500\n",
        "\n",
        "for i in range(loop):\n",
        "\n",
        "  model.train()\n",
        "\n",
        "  optimizer.zero_grad()\n",
        "\n",
        "  logits = model(train)\n",
        "\n",
        "  loss = mseloss(logits, label)\n",
        "\n",
        "  losslist.append(loss.item())\n",
        "\n",
        "  loss.backward()\n",
        "\n",
        "  optimizer.step()"
      ],
      "metadata": {
        "id": "mH9Mt1rTWvM9"
      },
      "execution_count": 6,
      "outputs": []
    },
    {
      "cell_type": "code",
      "source": [
        "losslist[0]"
      ],
      "metadata": {
        "id": "tZnTchATYU7-",
        "outputId": "5f4819ec-6919-442d-b35b-6b0de51c3953",
        "colab": {
          "base_uri": "https://localhost:8080/"
        }
      },
      "execution_count": 7,
      "outputs": [
        {
          "output_type": "execute_result",
          "data": {
            "text/plain": [
              "1.6411774158477783"
            ]
          },
          "metadata": {},
          "execution_count": 7
        }
      ]
    },
    {
      "cell_type": "code",
      "source": [
        "import matplotlib.pyplot as plt\n",
        "\n",
        "plt.plot(losslist);"
      ],
      "metadata": {
        "id": "izNIx2hQYWWd",
        "outputId": "637e87da-47b9-4028-bfb1-0a8f79e5de7d",
        "colab": {
          "base_uri": "https://localhost:8080/",
          "height": 430
        }
      },
      "execution_count": 8,
      "outputs": [
        {
          "output_type": "display_data",
          "data": {
            "text/plain": [
              "<Figure size 640x480 with 1 Axes>"
            ],
            "image/png": "[encoded data removed]"
          },
          "metadata": {}
        }
      ]
    },
    {
      "cell_type": "code",
      "source": [
        "model.eval()\n",
        "\n",
        "with torch.no_grad():\n",
        "\n",
        "  resulta = model(train)\n",
        "\n",
        "losses = mseloss(resulta, label)\n",
        "\n",
        "losses.item()"
      ],
      "metadata": {
        "id": "EzBPIUnHYedG",
        "outputId": "f71b8250-d935-449a-bdac-188531536c66",
        "colab": {
          "base_uri": "https://localhost:8080/"
        }
      },
      "execution_count": 9,
      "outputs": [
        {
          "output_type": "execute_result",
          "data": {
            "text/plain": [
              "0.0024384749121963978"
            ]
          },
          "metadata": {},
          "execution_count": 9
        }
      ]
    },
    {
      "cell_type": "code",
      "source": [
        "model.state_dict()['linear.weight'].item()"
      ],
      "metadata": {
        "id": "gW4wWhBxYrRa",
        "outputId": "52684135-e7ed-4e39-ad03-cdd5be9b2c0b",
        "colab": {
          "base_uri": "https://localhost:8080/"
        }
      },
      "execution_count": 10,
      "outputs": [
        {
          "output_type": "execute_result",
          "data": {
            "text/plain": [
              "0.3301720917224884"
            ]
          },
          "metadata": {},
          "execution_count": 10
        }
      ]
    },
    {
      "cell_type": "code",
      "source": [
        "model.state_dict()['linear.bias'].item()"
      ],
      "metadata": {
        "id": "nfDuu0JCYxOH",
        "outputId": "31897f35-7294-442c-e609-aa7e9f474f7f",
        "colab": {
          "base_uri": "https://localhost:8080/"
        }
      },
      "execution_count": 11,
      "outputs": [
        {
          "output_type": "execute_result",
          "data": {
            "text/plain": [
              "1.090002417564392"
            ]
          },
          "metadata": {},
          "execution_count": 11
        }
      ]
    },
    {
      "cell_type": "code",
      "source": [
        "torch.save(model, 'linear.pth')"
      ],
      "metadata": {
        "id": "tZKSw_O2ZOf1"
      },
      "execution_count": 12,
      "outputs": []
    },
    {
      "cell_type": "code",
      "source": [
        "loaded = torch.load('linear.pth', weights_only=False)\n",
        "\n",
        "loaded.eval()"
      ],
      "metadata": {
        "id": "66RwxypwZ-s4"
      },
      "execution_count": null,
      "outputs": []
    }
  ]
}