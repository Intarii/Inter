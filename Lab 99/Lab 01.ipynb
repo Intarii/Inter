{
  "nbformat": 4,
  "nbformat_minor": 0,
  "metadata": {
    "colab": {
      "provenance": []
    },
    "kernelspec": {
      "name": "python3",
      "display_name": "Python 3"
    },
    "language_info": {
      "name": "python"
    }
  },
  "cells": [
    {
      "cell_type": "code",
      "execution_count": 1,
      "metadata": {
        "id": "Yl8DpxFD3HXL"
      },
      "outputs": [],
      "source": [
        "import torch\n",
        "\n",
        "from torch.nn import Linear, Module, MSELoss\n",
        "\n",
        "from torch.optim import SGD\n",
        "\n",
        "import numpy as np"
      ]
    },
    {
      "cell_type": "code",
      "source": [
        "train = np.arange(0, 1, 0.01)\n",
        "\n",
        "label = train * 0.5 + 1\n",
        "\n",
        "assert len(train) == len(label), \"Fail !\""
      ],
      "metadata": {
        "id": "dH7iFDBh3ani"
      },
      "execution_count": 2,
      "outputs": []
    }
  ]
}