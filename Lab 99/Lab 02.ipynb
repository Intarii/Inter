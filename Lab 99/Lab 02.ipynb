{
  "nbformat": 4,
  "nbformat_minor": 0,
  "metadata": {
    "colab": {
      "provenance": [],
      "authorship_tag": "ABX9TyML4wm9esSRkmGPV5ABfkrV"
    },
    "kernelspec": {
      "name": "python3",
      "display_name": "Python 3"
    },
    "language_info": {
      "name": "python"
    }
  },
  "cells": [
    {
      "cell_type": "code",
      "execution_count": 1,
      "metadata": {
        "id": "E_0m9U89LB6l"
      },
      "outputs": [],
      "source": [
        "import torch\n",
        "\n",
        "from sklearn.datasets import load_iris\n",
        "\n",
        "iris = load_iris()\n",
        "\n",
        "data = iris.data; target = iris.target"
      ]
    },
    {
      "cell_type": "code",
      "source": [
        "from sklearn.model_selection import train_test_split\n",
        "\n",
        "train_input, test_input, train_target, test_target = train_test_split(data, target, test_size=0.2)"
      ],
      "metadata": {
        "id": "RNkF7cpPMK7m"
      },
      "execution_count": 2,
      "outputs": []
    },
    {
      "cell_type": "code",
      "source": [
        "train_input = torch.tensor(train_input, dtype=torch.float32)\n",
        "\n",
        "train_target = torch.tensor(train_target, dtype=torch.long)"
      ],
      "metadata": {
        "id": "xUm-bSmYMNLt"
      },
      "execution_count": 3,
      "outputs": []
    },
    {
      "cell_type": "code",
      "source": [
        "from torch.nn import Module, Linear, CrossEntropyLoss, Softmax\n",
        "\n",
        "class ModelClass(Module):\n",
        "  \"\"\"\n",
        "  Model Class\n",
        "  \"\"\"\n",
        "  def __init__(self):\n",
        "\n",
        "    super(ModelClass, self).__init__()\n",
        "\n",
        "    self.linear = Linear(4, 100)\n",
        "\n",
        "    self.hidden = Linear(100, 100)\n",
        "\n",
        "    self.output = Linear(100, 3)\n",
        "\n",
        "    self.softmax = Softmax(1)\n",
        "\n",
        "  def forward(self, i):\n",
        "    \"\"\"\n",
        "    Forward Propagation\n",
        "    \"\"\"\n",
        "    i = torch.relu(self.linear(i))\n",
        "\n",
        "    i = torch.relu(self.hidden(i))\n",
        "\n",
        "    return self.softmax(self.output(i))\n",
        "\n",
        "model = ModelClass()"
      ],
      "metadata": {
        "id": "TiAuSsNONWV_"
      },
      "execution_count": 4,
      "outputs": []
    },
    {
      "cell_type": "code",
      "source": [
        "from torch.optim import SGD\n",
        "\n",
        "crossloss = CrossEntropyLoss()\n",
        "\n",
        "optimizer = SGD(model.parameters(), lr=0.01)"
      ],
      "metadata": {
        "id": "GpjuKWC0PQfX"
      },
      "execution_count": 5,
      "outputs": []
    },
    {
      "cell_type": "code",
      "source": [
        "from sklearn.metrics import accuracy_score\n",
        "\n",
        "loop = 1000\n",
        "\n",
        "for l in range(loop):\n",
        "\n",
        "  optimizer.zero_grad()\n",
        "\n",
        "  out = model(train_input)\n",
        "\n",
        "  loss = crossloss(out, train_target)\n",
        "\n",
        "  loss.backward()\n",
        "\n",
        "  optimizer.step()"
      ],
      "metadata": {
        "id": "ImXRbunkVfDi"
      },
      "execution_count": 6,
      "outputs": []
    },
    {
      "cell_type": "code",
      "source": [
        "test_input = torch.tensor(test_input, dtype=torch.float32)\n",
        "\n",
        "test_target = torch.tensor(test_target, dtype=torch.long)"
      ],
      "metadata": {
        "id": "wBdTut_eWH6s"
      },
      "execution_count": 7,
      "outputs": []
    },
    {
      "cell_type": "code",
      "source": [
        "logits = model(test_input)\n",
        "\n",
        "logits = torch.argmax(logits, dim=1)\n",
        "\n",
        "accuracy_score(test_target, logits)"
      ],
      "metadata": {
        "id": "fQIjTue_WHl2",
        "outputId": "0a135161-18bf-4458-d649-b18448463d33",
        "colab": {
          "base_uri": "https://localhost:8080/"
        }
      },
      "execution_count": 8,
      "outputs": [
        {
          "output_type": "execute_result",
          "data": {
            "text/plain": [
              "1.0"
            ]
          },
          "metadata": {},
          "execution_count": 8
        }
      ]
    },
    {
      "cell_type": "code",
      "source": [
        "logits[:5]"
      ],
      "metadata": {
        "id": "5LRoJvRAWK2N",
        "outputId": "6ad99a7c-2683-4d62-b2e1-ebc873012f92",
        "colab": {
          "base_uri": "https://localhost:8080/"
        }
      },
      "execution_count": 9,
      "outputs": [
        {
          "output_type": "execute_result",
          "data": {
            "text/plain": [
              "tensor([1, 2, 1, 0, 2])"
            ]
          },
          "metadata": {},
          "execution_count": 9
        }
      ]
    },
    {
      "cell_type": "code",
      "source": [
        "test_target[:5]"
      ],
      "metadata": {
        "id": "1zyCkBdAWQi5",
        "outputId": "5ec93573-0a35-4a89-9623-e2fe385dffeb",
        "colab": {
          "base_uri": "https://localhost:8080/"
        }
      },
      "execution_count": 10,
      "outputs": [
        {
          "output_type": "execute_result",
          "data": {
            "text/plain": [
              "tensor([1, 2, 1, 0, 2])"
            ]
          },
          "metadata": {},
          "execution_count": 10
        }
      ]
    },
    {
      "cell_type": "code",
      "source": [
        "torch.save(model, 'iris_class.pth')"
      ],
      "metadata": {
        "id": "r0-0KwHTXEko"
      },
      "execution_count": 11,
      "outputs": []
    }
  ]
}