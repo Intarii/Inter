{
  "nbformat": 4,
  "nbformat_minor": 0,
  "metadata": {
    "colab": {
      "provenance": [],
      "authorship_tag": "ABX9TyNuch/Fq4xMTYgKuIqNJzvv"
    },
    "kernelspec": {
      "name": "python3",
      "display_name": "Python 3"
    },
    "language_info": {
      "name": "python"
    }
  },
  "cells": [
    {
      "cell_type": "code",
      "execution_count": 1,
      "metadata": {
        "id": "E_0m9U89LB6l"
      },
      "outputs": [],
      "source": [
        "import torch\n",
        "\n",
        "from sklearn.datasets import load_iris\n",
        "\n",
        "iris = load_iris()\n",
        "\n",
        "data = iris.data; target = iris.target"
      ]
    },
    {
      "cell_type": "code",
      "source": [
        "from sklearn.model_selection import train_test_split\n",
        "\n",
        "train_input, test_input, train_target, test_target = train_test_split(data, target, test_size=0.2)"
      ],
      "metadata": {
        "id": "RNkF7cpPMK7m"
      },
      "execution_count": 2,
      "outputs": []
    },
    {
      "cell_type": "code",
      "source": [
        "train_input = torch.tensor(train_input, dtype=torch.float32)\n",
        "\n",
        "train_target = torch.tensor(train_target, dtype=torch.long)"
      ],
      "metadata": {
        "id": "xUm-bSmYMNLt"
      },
      "execution_count": 3,
      "outputs": []
    },
    {
      "cell_type": "code",
      "source": [
        "from sklearn.preprocessing import StandardScaler\n",
        "\n",
        "scaler = StandardScaler()\n",
        "\n",
        "scaler.fit(train_input)\n",
        "\n",
        "train_input = torch.tensor(scaler.transform(train_input), dtype=torch.float32)"
      ],
      "metadata": {
        "id": "o5L8syIrMTuE"
      },
      "execution_count": 4,
      "outputs": []
    },
    {
      "cell_type": "code",
      "source": [
        "from torch.nn import Module, Linear, CrossEntropyLoss\n",
        "\n",
        "class ModelClass(Module):\n",
        "  \"\"\"\n",
        "  Model Class\n",
        "  \"\"\"\n",
        "  def __init__(self):\n",
        "\n",
        "    super(ModelClass, self).__init__()\n",
        "\n",
        "    self.linear = Linear(4, 16)\n",
        "\n",
        "    self.output = Linear(16, 3)\n",
        "\n",
        "  def forward(self, i):\n",
        "    \"\"\"\n",
        "    Forward Propagation\n",
        "    \"\"\"\n",
        "    i = torch.relu(self.linear(i))\n",
        "\n",
        "    return self.output(i)\n",
        "\n",
        "model = ModelClass()"
      ],
      "metadata": {
        "id": "TiAuSsNONWV_"
      },
      "execution_count": 5,
      "outputs": []
    },
    {
      "cell_type": "code",
      "source": [
        "from torch.optim import Adam\n",
        "\n",
        "alpha = 0.001\n",
        "\n",
        "crossloss = CrossEntropyLoss()\n",
        "\n",
        "optimizer = Adam(model.parameters(), lr=alpha)"
      ],
      "metadata": {
        "id": "GpjuKWC0PQfX"
      },
      "execution_count": 6,
      "outputs": []
    }
  ]
}